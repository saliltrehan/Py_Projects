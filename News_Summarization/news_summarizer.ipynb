{
 "cells": [
  {
   "cell_type": "code",
   "execution_count": 1,
   "metadata": {},
   "outputs": [
    {
     "name": "stderr",
     "output_type": "stream",
     "text": [
      "/home/salils/Documents/Python_n_R/Py_Projects/env/lib/python3.10/site-packages/tqdm/auto.py:22: TqdmWarning: IProgress not found. Please update jupyter and ipywidgets. See https://ipywidgets.readthedocs.io/en/stable/user_install.html\n",
      "  from .autonotebook import tqdm as notebook_tqdm\n"
     ]
    }
   ],
   "source": [
    "# Importing dependencies from transformers\n",
    "from transformers import PegasusForConditionalGeneration, PegasusTokenizer"
   ]
  },
  {
   "cell_type": "code",
   "execution_count": 2,
   "metadata": {},
   "outputs": [],
   "source": [
    "# Load tokenizer \n",
    "tokenizer = PegasusTokenizer.from_pretrained(\"google/pegasus-xsum\")"
   ]
  },
  {
   "cell_type": "code",
   "execution_count": 3,
   "metadata": {},
   "outputs": [],
   "source": [
    "# Load model \n",
    "model = PegasusForConditionalGeneration.from_pretrained(\"google/pegasus-xsum\")"
   ]
  },
  {
   "cell_type": "code",
   "execution_count": 4,
   "metadata": {},
   "outputs": [],
   "source": [
    "#saving the model\n",
    "# model.save_pretrained(\"saved_model\")"
   ]
  },
  {
   "cell_type": "code",
   "execution_count": 5,
   "metadata": {},
   "outputs": [],
   "source": [
    "\n",
    "text = \"\"\"  \n",
    "China’s quest to rule Taiwan has already begun with a campaign of “gray-zone” warfare. Here is how military strategists believe the struggle might play out.\n",
    "\\n\n",
    "Seventy-two years ago, the Communist Party seized control of China after a bloody struggle. The defeated Nationalist government fled to Taiwan, frustrating Beijing's desire to capture the island. Since then, China has arisen as a superpower rivaling America; Taiwan has blossomed into a self-governing democracy and high-tech powerhouse with Washington's backing. Now, after decades of tenuous stalemate, there is a renewed risk of conflict. While it is impossible to know how this long rivalry will play out, in some respects the battle for Taiwan is already underway.\n",
    "\\n\n",
    "As Reuters reported in December, the Chinese military – the People’s Liberation Army – is waging so-called gray-zone warfare against Taiwan. This consists of an almost daily campaign of intimidating military exercises, patrols and surveillance that falls just short of armed conflict. Since that report, the campaign has intensified, with Beijing stepping up the number of warplanes it is sending into the airspace around Taiwan. China has also used sand dredgers to swarm Taiwan’s outlying islands.\n",
    "\\n\n",
    "Military strategists tell Reuters that the gray-zone strategy has the potential to grind down Taipei’s resistance – but also that it may fall short, or even backfire by strengthening the island’s resolve. They are also envisioning starker futures. While they can’t predict the future, military planners in China, Taiwan, the United States, Japan and Australia are nonetheless actively gaming out scenarios for how Beijing might try to seize the prized island, and how Taiwan and America, along with its allies, might move to stop it.\n",
    "\\n\n",
    "China has a range of tactics it might adopt, military experts say. They all carry risk for President Xi Jinping and his ruling Communist Party. They also pose different challenges for Taiwan and for the United States and its allies, principally Japan. Xi’s options include seizing Taiwan’s outlying islands, blockades or all-out invasion. Some Taiwanese military experts say Beijing's next step might be to seize the lightly defended and remote Pratas Islands in the north of the South China Sea.  Any of these moves could spin out of control into war between China and America over Taiwan.\n",
    "\\n\n",
    "This report examines some of the conflict scenarios. It is based on interviews with close to a dozen military strategists and 15 current and former military officers from Taiwan, the United States, Australia and Japan. Some serving officers spoke to Reuters on condition of anonymity. The report also draws on articles in U.S., Chinese and Taiwanese military and professional journals and official publications. In places, we have provided links to published articles and documents that shed light on Chinese, Taiwanese and U.S. thinking.\n",
    "\\n\n",
    "These scenarios are, by their very nature, speculative. They are not predictions by Reuters of events to come. There is no certainty that real conflict would follow any of these trajectories. And hostilities may not erupt at all. But with tensions high, accident or miscalculation could become a catalyst for clashes at any time.\n",
    "\\n\n",
    "“For all sides the stakes are enormous,” said Ian Easton, a senior director of the Project 2049 Institute in Arlington, Virginia, and author of “The Chinese Invasion Threat,” a 2017 book which lays out the challenges the PLA faces in mounting an invasion and how Taiwan might respond. “A life and death game is underway, and none of the players have any way of knowing how it will end.”\n",
    "\\n\n",
    "A China foreign ministry spokesperson said the ministry would not comment on “hypothetical reports.” But the spokesperson added that the ruling party in Taiwan and ‘“Taiwan independence’ elements, in collusion with external forces, are constantly engaging in provocations by seeking ‘independence,’ which is the root cause of the current tense and turbulent situation in the Taiwan Strait.” \n",
    "\\n\n",
    "Today, under Xi Jinping, China is flashing impatience with Taiwan’s unwillingness to submit to Beijing’s rule. Xi says China’s aim is peaceful unification, but has pointedly refused to rule out the use of force.\n",
    "\\n\n",
    "Chinese control of Taiwan would dramatically reinforce the Communist Party’s prestige at home and eliminate the island as a viable model of a democratic alternative to authoritarian Party rule. It would also give China a foothold in the so-called first island chain, the line which runs through the string of islands from the Japanese archipelago to Taiwan, the Philippines and Borneo, which enclose China’s coastal seas.\n",
    "\\n\n",
    "For Beijing, success would translate into a commanding strategic position in Asia, undermining the security of Japan and South Korea, and allowing China to project power into the Western Pacific. But Beijing also has an incentive to be cautious: If America and its allies intervened against a takeover attempt, they could inflict heavy losses on an untested Chinese military that has not fired a shot in anger for decades. Defeat could weaken the Party’s hold on power.\n",
    "\\n\n",
    "For the American alliance, a Chinese takeover of Taiwan would be a devastating blow. At a stroke, the United States would lose its status as the pre-eminent power in Asia, according to most U.S. and regional military experts. If America were unwilling or unable to defend Taiwan, its network of allies in the Asia-Pacific – including Tokyo, Seoul and Canberra – would overnight be far more vulnerable to military and economic coercion from China. Some might switch allegiance to Beijing, analysts say. Some might seek nuclear weapons to boost their own security. \n",
    "\\n\n",
    "If America did opt to defend the island, though, there is no guarantee it would defeat an increasingly powerful PLA, according to current and former senior U.S. commanders. To counter China’s military rise, the United States is now rolling out new weapons and strategy in the Asia-Pacific.\n",
    "\\n\n",
    "There are indications America’s stance may be stiffening. Asked last month if the United States would come to Taiwan’s defense if China launched an attack, President Joe Biden appeared to depart from the long-held U.S. policy of “strategic ambiguity” when he replied: “Yes, we have a commitment to do that.” \n",
    "\\n\n",
    "Lieutenant Colonel Martin Meiners, a spokesperson for the Pentagon, had no comment on “specific operations, engagements, or training” described in this report. But Meiners said that China had “stepped up efforts to intimidate and pressure Taiwan and other allies,” and this increases “the risk of miscalculation.” \n",
    "\\n\n",
    "For Japan, blocking China from gaining a foothold in its trade routes is vital. From Taiwan, the Chinese military could threaten Japan’s southern islands and dominate the sea lanes that carry its imports and exports. Top Japanese officials now publicly acknowledge Tokyo must assist the United States in defending Taiwan. Asked about the conflict scenarios, Japan’s defense ministry said it couldn’t comment “on hypothetical questions or speculation.”\n",
    "\\n\n",
    "In Taiwan, an overwhelming majority of the island’s 23.5 million people think of themselves as Taiwanese rather than Chinese and support closer economic and political ties with the United States, according to opinion polls and recent election outcomes. This sentiment has hardened as they watch Beijing’s ongoing crackdown in Hong Kong. President Tsai Ing-wen has repeatedly said Taiwan will defend its freedom and democratic way of life.\n",
    "\\n\n",
    "Taiwan’s defense ministry said in a statement that the island’s military had “drawn up relevant countermeasures and made various combat plans” regarding possible actions and attempts to invade Taiwan by the “Communist army.” \n",
    "\\n\n",
    "Xi has made one thing clear: Taiwan, he has said, “must be, will be” unified with China to realize his dream of a rejuvenated China, a nation that recaptures the position it held for centuries as a great Asian power.\"\"\"\n",
    "\n"
   ]
  },
  {
   "cell_type": "code",
   "execution_count": 6,
   "metadata": {},
   "outputs": [
    {
     "data": {
      "text/plain": [
       "['China’s quest to rule Taiwan has already begun with a campaign of “gray-zone” warfare. Here is how military strategists believe the struggle might play out.',\n",
       " \"Seventy-two years ago, the Communist Party seized control of China after a bloody struggle. The defeated Nationalist government fled to Taiwan, frustrating Beijing's desire to capture the island. Since then, China has arisen as a superpower rivaling America; Taiwan has blossomed into a self-governing democracy and high-tech powerhouse with Washington's backing. Now, after decades of tenuous stalemate, there is a renewed risk of conflict. While it is impossible to know how this long rivalry will play out, in some respects the battle for Taiwan is already underway.\",\n",
       " 'As Reuters reported in December, the Chinese military – the People’s Liberation Army – is waging so-called gray-zone warfare against Taiwan. This consists of an almost daily campaign of intimidating military exercises, patrols and surveillance that falls just short of armed conflict. Since that report, the campaign has intensified, with Beijing stepping up the number of warplanes it is sending into the airspace around Taiwan. China has also used sand dredgers to swarm Taiwan’s outlying islands.',\n",
       " 'Military strategists tell Reuters that the gray-zone strategy has the potential to grind down Taipei’s resistance – but also that it may fall short, or even backfire by strengthening the island’s resolve. They are also envisioning starker futures. While they can’t predict the future, military planners in China, Taiwan, the United States, Japan and Australia are nonetheless actively gaming out scenarios for how Beijing might try to seize the prized island, and how Taiwan and America, along with its allies, might move to stop it.',\n",
       " \"China has a range of tactics it might adopt, military experts say. They all carry risk for President Xi Jinping and his ruling Communist Party. They also pose different challenges for Taiwan and for the United States and its allies, principally Japan. Xi’s options include seizing Taiwan’s outlying islands, blockades or all-out invasion. Some Taiwanese military experts say Beijing's next step might be to seize the lightly defended and remote Pratas Islands in the north of the South China Sea.  Any of these moves could spin out of control into war between China and America over Taiwan.\",\n",
       " 'This report examines some of the conflict scenarios. It is based on interviews with close to a dozen military strategists and 15 current and former military officers from Taiwan, the United States, Australia and Japan. Some serving officers spoke to Reuters on condition of anonymity. The report also draws on articles in U.S., Chinese and Taiwanese military and professional journals and official publications. In places, we have provided links to published articles and documents that shed light on Chinese, Taiwanese and U.S. thinking.',\n",
       " 'These scenarios are, by their very nature, speculative. They are not predictions by Reuters of events to come. There is no certainty that real conflict would follow any of these trajectories. And hostilities may not erupt at all. But with tensions high, accident or miscalculation could become a catalyst for clashes at any time.',\n",
       " '“For all sides the stakes are enormous,” said Ian Easton, a senior director of the Project 2049 Institute in Arlington, Virginia, and author of “The Chinese Invasion Threat,” a 2017 book which lays out the challenges the PLA faces in mounting an invasion and how Taiwan might respond. “A life and death game is underway, and none of the players have any way of knowing how it will end.”',\n",
       " 'A China foreign ministry spokesperson said the ministry would not comment on “hypothetical reports.” But the spokesperson added that the ruling party in Taiwan and ‘“Taiwan independence’ elements, in collusion with external forces, are constantly engaging in provocations by seeking ‘independence,’ which is the root cause of the current tense and turbulent situation in the Taiwan Strait.”',\n",
       " 'Today, under Xi Jinping, China is flashing impatience with Taiwan’s unwillingness to submit to Beijing’s rule. Xi says China’s aim is peaceful unification, but has pointedly refused to rule out the use of force.',\n",
       " 'Chinese control of Taiwan would dramatically reinforce the Communist Party’s prestige at home and eliminate the island as a viable model of a democratic alternative to authoritarian Party rule. It would also give China a foothold in the so-called first island chain, the line which runs through the string of islands from the Japanese archipelago to Taiwan, the Philippines and Borneo, which enclose China’s coastal seas.',\n",
       " 'For Beijing, success would translate into a commanding strategic position in Asia, undermining the security of Japan and South Korea, and allowing China to project power into the Western Pacific. But Beijing also has an incentive to be cautious: If America and its allies intervened against a takeover attempt, they could inflict heavy losses on an untested Chinese military that has not fired a shot in anger for decades. Defeat could weaken the Party’s hold on power.',\n",
       " 'For the American alliance, a Chinese takeover of Taiwan would be a devastating blow. At a stroke, the United States would lose its status as the pre-eminent power in Asia, according to most U.S. and regional military experts. If America were unwilling or unable to defend Taiwan, its network of allies in the Asia-Pacific – including Tokyo, Seoul and Canberra – would overnight be far more vulnerable to military and economic coercion from China. Some might switch allegiance to Beijing, analysts say. Some might seek nuclear weapons to boost their own security.',\n",
       " 'If America did opt to defend the island, though, there is no guarantee it would defeat an increasingly powerful PLA, according to current and former senior U.S. commanders. To counter China’s military rise, the United States is now rolling out new weapons and strategy in the Asia-Pacific.',\n",
       " 'There are indications America’s stance may be stiffening. Asked last month if the United States would come to Taiwan’s defense if China launched an attack, President Joe Biden appeared to depart from the long-held U.S. policy of “strategic ambiguity” when he replied: “Yes, we have a commitment to do that.”',\n",
       " 'Lieutenant Colonel Martin Meiners, a spokesperson for the Pentagon, had no comment on “specific operations, engagements, or training” described in this report. But Meiners said that China had “stepped up efforts to intimidate and pressure Taiwan and other allies,” and this increases “the risk of miscalculation.”',\n",
       " 'For Japan, blocking China from gaining a foothold in its trade routes is vital. From Taiwan, the Chinese military could threaten Japan’s southern islands and dominate the sea lanes that carry its imports and exports. Top Japanese officials now publicly acknowledge Tokyo must assist the United States in defending Taiwan. Asked about the conflict scenarios, Japan’s defense ministry said it couldn’t comment “on hypothetical questions or speculation.”',\n",
       " 'In Taiwan, an overwhelming majority of the island’s 23.5 million people think of themselves as Taiwanese rather than Chinese and support closer economic and political ties with the United States, according to opinion polls and recent election outcomes. This sentiment has hardened as they watch Beijing’s ongoing crackdown in Hong Kong. President Tsai Ing-wen has repeatedly said Taiwan will defend its freedom and democratic way of life.',\n",
       " 'Taiwan’s defense ministry said in a statement that the island’s military had “drawn up relevant countermeasures and made various combat plans” regarding possible actions and attempts to invade Taiwan by the “Communist army.”',\n",
       " 'Xi has made one thing clear: Taiwan, he has said, “must be, will be” unified with China to realize his dream of a rejuvenated China, a nation that recaptures the position it held for centuries as a great Asian power.']"
      ]
     },
     "execution_count": 6,
     "metadata": {},
     "output_type": "execute_result"
    }
   ],
   "source": [
    "[i.strip() for i in text.split(\"\\n\") if i.strip() != '']"
   ]
  },
  {
   "cell_type": "code",
   "execution_count": 7,
   "metadata": {},
   "outputs": [
    {
     "name": "stderr",
     "output_type": "stream",
     "text": [
      "/home/salils/Documents/Python_n_R/Py_Projects/env/lib/python3.10/site-packages/transformers/generation_utils.py:1202: UserWarning: Neither `max_length` nor `max_new_tokens` have been set, `max_length` will default to 64 (`self.config.max_length`). Controlling `max_length` via the config is deprecated and `max_length` will be removed from the config in v5 of Transformers -- we recommend using `max_new_tokens` to control the maximum length of the generation.\n",
      "  warnings.warn(\n"
     ]
    },
    {
     "name": "stdout",
     "output_type": "stream",
     "text": [
      "Taiwan’s President Tsai Ing-wen has vowed to defend the island from China, which claims it as its own.\n"
     ]
    },
    {
     "name": "stderr",
     "output_type": "stream",
     "text": [
      "/home/salils/Documents/Python_n_R/Py_Projects/env/lib/python3.10/site-packages/transformers/generation_utils.py:1202: UserWarning: Neither `max_length` nor `max_new_tokens` have been set, `max_length` will default to 64 (`self.config.max_length`). Controlling `max_length` via the config is deprecated and `max_length` will be removed from the config in v5 of Transformers -- we recommend using `max_new_tokens` to control the maximum length of the generation.\n",
      "  warnings.warn(\n"
     ]
    },
    {
     "name": "stdout",
     "output_type": "stream",
     "text": [
      "China and Taiwan have a long, complicated history.\n",
      "China’s military has begun deploying surface-to-air missiles in the skies above Taiwan.\n",
      "Taiwan’s military is preparing for the possibility that China may try to seize the island in the future.\n",
      "China’s recent military build-up in the South China Sea has raised tensions with Taiwan, the self-ruled island it claims as its own.\n",
      "The Taiwan Strait is one of the world's busiest shipping lanes, and tensions between Taiwan and China have increased in recent years.\n",
      "As Syrian President Bashar al-Assad prepares to step down after more than four years in power, Reuters looks at the potential consequences for his country.\n",
      "As China's People's Liberation Army (PLA) prepares for a possible invasion of Taiwan, what does that mean for the island's future?\n",
      "China has refused to comment on reports that it is planning a major military exercise in the Taiwan Strait.\n",
      "China and Taiwan have been at odds since the island split from the mainland in 1949.\n",
      "China’s claim to sovereignty over Taiwan is one of the country’s most sensitive issues.\n",
      "As China’s Communist Party prepares for a once-in-a-decade once-in-a-generation congress, the country’s military and foreign policy are under intense scrutiny.\n",
      "The United States and China are locked in a diplomatic standoff over Taiwan.\n",
      "The United States is considering whether to deploy a land-to-air missile system on Fiery Cross Reef, an artificial island built by the People’s Liberation Army (PLA) in the disputed South China Sea.\n",
      "The United States has been a staunch supporter of Taiwan since the island split from China in 1949.\n",
      "The Pentagon has warned that China has stepped up efforts to intimidate and pressure Taiwan and other allies.\n",
      "Japan and the United States are locked in a diplomatic tug-of-war over Taiwan.\n",
      "China regards Taiwan as a breakaway province that will eventually be part of the country.\n",
      "Taiwan’s military says it has stepped up preparations for a possible invasion by North Korea.\n",
      "China's President Xi Jinping has been in power for less than a year, but he has already made his mark.\n"
     ]
    }
   ],
   "source": [
    "for i in text.split(\"\\n\"):\n",
    "    if i.strip() != '':\n",
    "\n",
    "        # Create tokens - number representation of our text\n",
    "        tokens = tokenizer(i.strip(), truncation=True, padding=\"longest\", return_tensors=\"pt\")\n",
    "        \n",
    "        # Summarize \n",
    "        summary = model.generate(**tokens)\n",
    "\n",
    "        # Decode summary\n",
    "        print(tokenizer.decode(summary[0]))       "
   ]
  },
  {
   "cell_type": "code",
   "execution_count": null,
   "metadata": {},
   "outputs": [],
   "source": [
    "text = \"\"\"The government will construct 26 green express highways by 2024 and bring down travel time between key cities across the country, Union Road Transport and Highways Minister Nitin Gadkari told Rajya Sabha on Wednesday.\\nOnce the highways are completed, travel time from Delhi to Dehradun, Haridwar and Jaipur will be reduced to two hours, Gadkari said.\\nCiting more examples, he told the members, “Delhi to Chandigarh will take two-and-a-half hours, Delhi to Amritsar four hours, and you will be able to do Delhi-Mumbai in 12 hours.\\nStarting that the government is looking at two new options for toll collection, Gadkari said the first is a satellite-based system, through which GPS in a vehicle will help toll to be directly deducted from the vehicle owner’s bank account.\\nNewsletter | Click to get the day’s best explainers in your inboxSpecifying that FASTag — an electronic toll collection system — has contributed “immensely” to toll collection, Gadkari said 5.56 crore FASTags have been issued till date, and average daily toll collection through FASTag is Rs 120 crore.\"\"\"\n",
    "\n",
    "text = \"\"\"The government will construct 26 green express highways by 2024 and bring down travel time between key cities across the country, Union Road Transport and Highways Minister Nitin Gadkari told Rajya Sabha on Wednesday.\\n\\nOnce the highways are completed, travel time from Delhi to Dehradun, Haridwar and Jaipur will be reduced to two hours, Gadkari said. Citing more examples, he told the members, “Delhi to Chandigarh will take two-and-a-half hours, Delhi to Amritsar four hours, and you will be able to do Delhi-Mumbai in 12 hours. By 2024, I guarantee that roads in India will be like those in the United States.”\\n\\nHe said the Transport Ministry is also looking at several new technologies to replace toll plazas in order to reduce traffic snarls at these points.\\n\\nStarting that the government is looking at two new options for toll collection, Gadkari said the first is a satellite-based system, through which GPS in a vehicle will help toll to be directly deducted from the vehicle owner’s bank account. “The other option is the numberplate,” he said. “From 2019, we started the new numberplate with a new technology.… There will be a computerised system by which we can use the software, and we will collect toll.”\\n\\nHe said the system will register the point where a vehicle enters a toll highway, and thereafter register the point where it exits it; toll will be deducted from the owner’s account for the kilometres the car is driven on the highway. He said the ministry is yet to zero in on the technology to be used but it will be selected “as early as possible — within a month”.\\n\\nNewsletter | Click to get the day’s best explainers in your inbox\\n\\nSpecifying that FASTag — an electronic toll collection system — has contributed “immensely” to toll collection, Gadkari said 5.56 crore FASTags have been issued till date, and average daily toll collection through FASTag is Rs 120 crore.\"\"\"\n",
    "\n",
    "text = \"\"\"Hyderabad police on Wednesday arrested a 21-year-old man from Manipur for allegedly killing his childhood friend. According to police, the accused, P Namasudra, and victim, Dipendu Biswas, were residents of Tukaramgate in Hyderabad. Biswas had reportedly developed intimacy with Namasudra's wife following which the latter decided to kill him. The incident took place on July 25, police added.\"\"\"\n",
    "\n",
    "tokens = tokenizer(text.strip(), truncation=True, padding=\"longest\", return_tensors=\"pt\")\n",
    "\n",
    "# Summarize \n",
    "summary = model.generate(**tokens)"
   ]
  },
  {
   "cell_type": "code",
   "execution_count": null,
   "metadata": {},
   "outputs": [
    {
     "data": {
      "text/plain": [
       "tensor([[    0,   139,   657,   138,  7927,  2571,  1190,  3520, 17879,   141,\n",
       "         34074,   111,   650,   308,   905,   166,   317,   662,  2114,   482,\n",
       "           109,   531,   108,  2539,  1769,  8854,   111, 47130,  2965, 86191,\n",
       "         37932, 31468,   898, 74071, 26581,   124,  1900,   107,     1]])"
      ]
     },
     "execution_count": 20,
     "metadata": {},
     "output_type": "execute_result"
    }
   ],
   "source": [
    "# Output summary tokens\n",
    "summary"
   ]
  },
  {
   "cell_type": "code",
   "execution_count": null,
   "metadata": {},
   "outputs": [
    {
     "data": {
      "text/plain": [
       "'The government will construct 26 green express highways by 2024 and bring down travel time between key cities across the country, Union Road Transport and Highways Minister Nitin Gadkari told Rajya Sabha on Wednesday.'"
      ]
     },
     "execution_count": 21,
     "metadata": {},
     "output_type": "execute_result"
    }
   ],
   "source": [
    "# Decode summary\n",
    "tokenizer.decode(summary[0])"
   ]
  },
  {
   "cell_type": "code",
   "execution_count": null,
   "metadata": {},
   "outputs": [
    {
     "data": {
      "text/plain": [
       "'The government will construct 26 green express highways by 2024 and bring down time between key cities across the country, Union Road Transport and Highways Minister Nitin Gadkari told Rajya Sabha on Wednesday.'"
      ]
     },
     "execution_count": 18,
     "metadata": {},
     "output_type": "execute_result"
    }
   ],
   "source": [
    "# Decode summary\n",
    "tokenizer.decode(summary[0])"
   ]
  },
  {
   "cell_type": "code",
   "execution_count": 10,
   "metadata": {},
   "outputs": [
    {
     "name": "stderr",
     "output_type": "stream",
     "text": [
      "[nltk_data] Downloading package punkt to /home/salils/nltk_data...\n",
      "[nltk_data]   Unzipping tokenizers/punkt.zip.\n"
     ]
    },
    {
     "data": {
      "text/plain": [
       "True"
      ]
     },
     "execution_count": 10,
     "metadata": {},
     "output_type": "execute_result"
    }
   ],
   "source": [
    "import nltk\n",
    "nltk.download('punkt')"
   ]
  },
  {
   "cell_type": "code",
   "execution_count": 11,
   "metadata": {},
   "outputs": [],
   "source": [
    "from newspaper import Article\n",
    "\n",
    "article_name = Article(url=\"https://indianexpress.com/article/india/gadkari-guarantees-us-like-roads-in-india-by-2024-8069237/\", language=\"en\")\n",
    "\n",
    "article_name.download()\n",
    "\n",
    "article_name.parse()\n",
    "\n",
    "article_name.nlp()"
   ]
  },
  {
   "cell_type": "code",
   "execution_count": 12,
   "metadata": {},
   "outputs": [
    {
     "data": {
      "text/plain": [
       "'The government will construct 26 green express highways by 2024 and bring down travel time between key cities across the country, Union Road Transport and Highways Minister Nitin Gadkari told Rajya Sabha on Wednesday.\\n\\nOnce the highways are completed, travel time from Delhi to Dehradun, Haridwar and Jaipur will be reduced to two hours, Gadkari said. Citing more examples, he told the members, “Delhi to Chandigarh will take two-and-a-half hours, Delhi to Amritsar four hours, and you will be able to do Delhi-Mumbai in 12 hours. By 2024, I guarantee that roads in India will be like those in the United States.”\\n\\nHe said the Transport Ministry is also looking at several new technologies to replace toll plazas in order to reduce traffic snarls at these points.\\n\\nStarting that the government is looking at two new options for toll collection, Gadkari said the first is a satellite-based system, through which GPS in a vehicle will help toll to be directly deducted from the vehicle owner’s bank account. “The other option is the numberplate,” he said. “From 2019, we started the new numberplate with a new technology.… There will be a computerised system by which we can use the software, and we will collect toll.”\\n\\nHe said the system will register the point where a vehicle enters a toll highway, and thereafter register the point where it exits it; toll will be deducted from the owner’s account for the kilometres the car is driven on the highway. He said the ministry is yet to zero in on the technology to be used but it will be selected “as early as possible — within a month”.\\n\\nNewsletter | Click to get the day’s best explainers in your inbox\\n\\nSpecifying that FASTag — an electronic toll collection system — has contributed “immensely” to toll collection, Gadkari said 5.56 crore FASTags have been issued till date, and average daily toll collection through FASTag is Rs 120 crore.'"
      ]
     },
     "execution_count": 12,
     "metadata": {},
     "output_type": "execute_result"
    }
   ],
   "source": [
    "article_name.text"
   ]
  },
  {
   "cell_type": "code",
   "execution_count": 13,
   "metadata": {},
   "outputs": [
    {
     "data": {
      "text/plain": [
       "'Union Minister Nitin Gadkari ‘guarantees’ US-like roads in India by 2024'"
      ]
     },
     "execution_count": 13,
     "metadata": {},
     "output_type": "execute_result"
    }
   ],
   "source": [
    "article_name.title"
   ]
  },
  {
   "cell_type": "code",
   "execution_count": 14,
   "metadata": {},
   "outputs": [
    {
     "data": {
      "text/plain": [
       "'The government will construct 26 green express highways by 2024 and bring down travel time between key cities across the country, Union Road Transport and Highways Minister Nitin Gadkari told Rajya Sabha on Wednesday.\\nOnce the highways are completed, travel time from Delhi to Dehradun, Haridwar and Jaipur will be reduced to two hours, Gadkari said.\\nCiting more examples, he told the members, “Delhi to Chandigarh will take two-and-a-half hours, Delhi to Amritsar four hours, and you will be able to do Delhi-Mumbai in 12 hours.\\nStarting that the government is looking at two new options for toll collection, Gadkari said the first is a satellite-based system, through which GPS in a vehicle will help toll to be directly deducted from the vehicle owner’s bank account.\\nNewsletter | Click to get the day’s best explainers in your inboxSpecifying that FASTag — an electronic toll collection system — has contributed “immensely” to toll collection, Gadkari said 5.56 crore FASTags have been issued till date, and average daily toll collection through FASTag is Rs 120 crore.'"
      ]
     },
     "execution_count": 14,
     "metadata": {},
     "output_type": "execute_result"
    }
   ],
   "source": [
    "article_name.summary"
   ]
  },
  {
   "cell_type": "code",
   "execution_count": 15,
   "metadata": {},
   "outputs": [
    {
     "data": {
      "text/plain": [
       "['gadkari',\n",
       " 'travel',\n",
       " 'roads',\n",
       " 'system',\n",
       " 'minister',\n",
       " 'union',\n",
       " '2024',\n",
       " 'toll',\n",
       " 'hours',\n",
       " 'transport',\n",
       " 'vehicle',\n",
       " 'india',\n",
       " 'delhi',\n",
       " 'nitin',\n",
       " 'highways',\n",
       " 'uslike',\n",
       " 'guarantees',\n",
       " 'collection']"
      ]
     },
     "execution_count": 15,
     "metadata": {},
     "output_type": "execute_result"
    }
   ],
   "source": [
    "article_name.keywords"
   ]
  },
  {
   "cell_type": "code",
   "execution_count": null,
   "metadata": {},
   "outputs": [],
   "source": []
  }
 ],
 "metadata": {
  "kernelspec": {
   "display_name": "Python 3.10.4 ('env': venv)",
   "language": "python",
   "name": "python3"
  },
  "language_info": {
   "codemirror_mode": {
    "name": "ipython",
    "version": 3
   },
   "file_extension": ".py",
   "mimetype": "text/x-python",
   "name": "python",
   "nbconvert_exporter": "python",
   "pygments_lexer": "ipython3",
   "version": "3.10.4"
  },
  "orig_nbformat": 4,
  "vscode": {
   "interpreter": {
    "hash": "206a4eb7b5a17dfc707ac57a752c23d13e7684ef023e476fa29bcc3fe1d0fce0"
   }
  }
 },
 "nbformat": 4,
 "nbformat_minor": 2
}
